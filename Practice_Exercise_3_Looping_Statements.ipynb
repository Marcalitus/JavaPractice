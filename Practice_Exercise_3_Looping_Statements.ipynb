{
  "nbformat": 4,
  "nbformat_minor": 0,
  "metadata": {
    "kernelspec": {
      "display_name": "Python 3",
      "language": "python",
      "name": "python3"
    },
    "language_info": {
      "codemirror_mode": {
        "name": "ipython",
        "version": 3
      },
      "file_extension": ".py",
      "mimetype": "text/x-python",
      "name": "python",
      "nbconvert_exporter": "python",
      "pygments_lexer": "ipython3",
      "version": "3.8.5"
    },
    "colab": {
      "name": "Practice Exercise 3- Looping_Statements.ipynb",
      "provenance": [],
      "collapsed_sections": [],
      "include_colab_link": true
    }
  },
  "cells": [
    {
      "cell_type": "markdown",
      "metadata": {
        "id": "view-in-github",
        "colab_type": "text"
      },
      "source": [
        "<a href=\"https://colab.research.google.com/github/Marcalitus/JavaPractice/blob/main/Practice_Exercise_3_Looping_Statements.ipynb\" target=\"_parent\"><img src=\"https://colab.research.google.com/assets/colab-badge.svg\" alt=\"Open In Colab\"/></a>"
      ]
    },
    {
      "cell_type": "markdown",
      "metadata": {
        "id": "BohMaWoXtEaX"
      },
      "source": [
        "# LOOPING STATEMENTS EXERCISE"
      ]
    },
    {
      "cell_type": "markdown",
      "metadata": {
        "id": "dCzri9AdtEae"
      },
      "source": [
        "---------------"
      ]
    },
    {
      "cell_type": "markdown",
      "metadata": {
        "id": "yOFH_mrZtEag"
      },
      "source": [
        "### 1.Print -10 to -1 using for loop"
      ]
    },
    {
      "cell_type": "code",
      "metadata": {
        "colab": {
          "base_uri": "https://localhost:8080/"
        },
        "id": "9QJylGvxtEai",
        "outputId": "0c498be0-64b9-41d0-a8b1-82a3a8521f30"
      },
      "source": [
        "count = 0\n",
        "negative_list = {-10,-9,-8,-7,-6,-5,-4,-3,-2,-1}\n",
        "for i in negative_list: \n",
        "  print (i)\n",
        "  count = count + 1 \n",
        "print(\"Done\")"
      ],
      "execution_count": 2,
      "outputs": [
        {
          "output_type": "stream",
          "text": [
            "-10\n",
            "-9\n",
            "-8\n",
            "-7\n",
            "-6\n",
            "-5\n",
            "-4\n",
            "-3\n",
            "-2\n",
            "-1\n",
            "Done\n"
          ],
          "name": "stdout"
        }
      ]
    },
    {
      "cell_type": "markdown",
      "metadata": {
        "id": "z00Gg9NhtEak"
      },
      "source": [
        "### 2.Using while loop print numbers 1 to 10"
      ]
    },
    {
      "cell_type": "code",
      "metadata": {
        "colab": {
          "base_uri": "https://localhost:8080/",
          "height": 135
        },
        "id": "sH8Hf88etEam",
        "outputId": "c05088ed-cbd6-47fe-f7a6-0dbb390b2ba1"
      },
      "source": [
        "counter \n",
        "numbered_list = {1,2,3,4,5,6,7,8,9,10}\n",
        "while i in numbered_list\n",
        "  print (i)\n"
      ],
      "execution_count": 3,
      "outputs": [
        {
          "output_type": "error",
          "ename": "SyntaxError",
          "evalue": "ignored",
          "traceback": [
            "\u001b[0;36m  File \u001b[0;32m\"<ipython-input-3-d98cbabe420f>\"\u001b[0;36m, line \u001b[0;32m2\u001b[0m\n\u001b[0;31m    while i in numbered_list\u001b[0m\n\u001b[0m                            ^\u001b[0m\n\u001b[0;31mSyntaxError\u001b[0m\u001b[0;31m:\u001b[0m invalid syntax\n"
          ]
        }
      ]
    },
    {
      "cell_type": "markdown",
      "metadata": {
        "id": "FA9mNjNEtEan"
      },
      "source": [
        "### 3.Using for loop print first ten even numbers"
      ]
    },
    {
      "cell_type": "code",
      "metadata": {
        "id": "la5ai8JxtEao"
      },
      "source": [
        ""
      ],
      "execution_count": null,
      "outputs": []
    },
    {
      "cell_type": "markdown",
      "metadata": {
        "id": "DIzNjLhgtEap"
      },
      "source": [
        "### 4.Using while loop generate the table of 5"
      ]
    },
    {
      "cell_type": "code",
      "metadata": {
        "id": "G88PlT0YtEat"
      },
      "source": [
        ""
      ],
      "execution_count": null,
      "outputs": []
    },
    {
      "cell_type": "markdown",
      "metadata": {
        "id": "zMKkVojetEau"
      },
      "source": [
        "### 5.Using for loop generate the table of 8"
      ]
    },
    {
      "cell_type": "code",
      "metadata": {
        "id": "YAJTGusVtEaw"
      },
      "source": [
        "\n",
        "\n"
      ],
      "execution_count": 3,
      "outputs": []
    },
    {
      "cell_type": "markdown",
      "metadata": {
        "id": "ECzDL43gtEax"
      },
      "source": [
        "### 6. For numbers 1 to 100, if a number is divisible by 3, then print Fizz.\n",
        "### If a number is divisible by 5, then print Buzz.\n",
        "### If a number is divisible by 3 and 5 both, then print FizzBuzz\n",
        "### If a number is neither divisible by 3 or 5, just print the number.\n",
        "\n",
        "Hint: use range(1,101) function  to generate numbers from 1 to 100"
      ]
    },
    {
      "cell_type": "code",
      "metadata": {
        "id": "OfqUSVaPtEaz"
      },
      "source": [
        ""
      ],
      "execution_count": null,
      "outputs": []
    },
    {
      "cell_type": "markdown",
      "metadata": {
        "id": "Y4n8dM3mtEa0"
      },
      "source": [
        "### 7.  Using the range function find the sum of all numbers from 1 to 100.\n",
        "    For the numbers in the range (1,100):1+2+3+4+5......+100 = 5050"
      ]
    },
    {
      "cell_type": "code",
      "metadata": {
        "id": "cCO_Jk0atEa1"
      },
      "source": [
        ""
      ],
      "execution_count": null,
      "outputs": []
    },
    {
      "cell_type": "markdown",
      "metadata": {
        "id": "JJryNImvtEa2"
      },
      "source": [
        "### 8. Write a program which will find all such numbers which are divisible by 7 but are not a multiple of 5, between 202 and 320 (both included)."
      ]
    },
    {
      "cell_type": "code",
      "metadata": {
        "id": "Bk6Dl_IqtEa3"
      },
      "source": [
        ""
      ],
      "execution_count": null,
      "outputs": []
    },
    {
      "cell_type": "markdown",
      "metadata": {
        "id": "SFKg42s2tEa4"
      },
      "source": [
        "### 9. Python Program to count the number of vowels in a string.\n",
        "st = \"Data Science\"\n",
        "\n",
        "Output: No of vowels = 5"
      ]
    },
    {
      "cell_type": "code",
      "metadata": {
        "id": "fXLjlL1PtEa6"
      },
      "source": [
        ""
      ],
      "execution_count": null,
      "outputs": []
    },
    {
      "cell_type": "markdown",
      "metadata": {
        "id": "Yyx3oKSdtEa6"
      },
      "source": [
        "### 10. Print Data Science 5 times using for loop"
      ]
    },
    {
      "cell_type": "code",
      "metadata": {
        "id": "Pov0UzdstEa7"
      },
      "source": [
        ""
      ],
      "execution_count": 3,
      "outputs": []
    },
    {
      "cell_type": "code",
      "metadata": {
        "colab": {
          "base_uri": "https://localhost:8080/"
        },
        "id": "jNJjsvuQvyvS",
        "outputId": "074a94e1-7949-47df-a249-a774e352c120"
      },
      "source": [
        "number_list = [0,1,2,3,4,5,6,2143,123,7834]\n",
        "for i in number_list[1:4]: \n",
        "  for j in number_list[4:7]: \n",
        "    print(i*j)\n",
        "  print (\"Outside of the J loop\")\n",
        "print(\"Outside of both loops\" )"
      ],
      "execution_count": 15,
      "outputs": [
        {
          "output_type": "stream",
          "text": [
            "4\n",
            "5\n",
            "6\n",
            "Outside of the J loop\n",
            "8\n",
            "10\n",
            "12\n",
            "Outside of the J loop\n",
            "12\n",
            "15\n",
            "18\n",
            "Outside of the J loop\n",
            "Outside of both loops\n"
          ],
          "name": "stdout"
        }
      ]
    },
    {
      "cell_type": "code",
      "metadata": {
        "id": "L-4b_UD0zwpY"
      },
      "source": [
        "for i in range(6): \n",
        "  print(i)\n",
        "  "
      ],
      "execution_count": 20,
      "outputs": []
    },
    {
      "cell_type": "code",
      "metadata": {
        "id": "kWG8OShx0XxG"
      },
      "source": [
        ""
      ],
      "execution_count": null,
      "outputs": []
    }
  ]
}